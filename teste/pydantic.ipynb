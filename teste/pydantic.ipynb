{
 "cells": [
  {
   "cell_type": "code",
   "execution_count": 16,
   "metadata": {},
   "outputs": [
    {
     "name": "stderr",
     "output_type": "stream",
     "text": [
      "C:\\Users\\cailu\\AppData\\Local\\Temp\\ipykernel_32760\\19095724.py:27: LangChainDeprecationWarning: The class `ChatOpenAI` was deprecated in LangChain 0.0.10 and will be removed in 1.0. An updated version of the class exists in the :class:`~langchain-openai package and should be used instead. To use it run `pip install -U :class:`~langchain-openai` and import as `from :class:`~langchain_openai import ChatOpenAI``.\n",
      "  llm = ChatOpenAI(temperature=0)\n",
      "C:\\Users\\cailu\\AppData\\Local\\Temp\\ipykernel_32760\\19095724.py:30: LangChainDeprecationWarning: The class `LLMChain` was deprecated in LangChain 0.1.17 and will be removed in 1.0. Use :meth:`~RunnableSequence, e.g., `prompt | llm`` instead.\n",
      "  chain = LLMChain(llm=llm, prompt=prompt)\n",
      "C:\\Users\\cailu\\AppData\\Local\\Temp\\ipykernel_32760\\19095724.py:33: LangChainDeprecationWarning: The method `Chain.run` was deprecated in langchain 0.1.0 and will be removed in 1.0. Use :meth:`~invoke` instead.\n",
      "  resposta_bruta = chain.run(\"Qual é a capital da França?\")\n"
     ]
    },
    {
     "name": "stdout",
     "output_type": "stream",
     "text": [
      "{'resposta': 'Paris', 'fonte': 'Enciclopédia Britannica', 'grau_de_certeza': 0.9, 'topicos_relacionados': ['França', 'Geografia', 'Capitais']}\n"
     ]
    },
    {
     "name": "stderr",
     "output_type": "stream",
     "text": [
      "C:\\Users\\cailu\\AppData\\Local\\Temp\\ipykernel_32760\\19095724.py:36: PydanticDeprecatedSince20: The `dict` method is deprecated; use `model_dump` instead. Deprecated in Pydantic V2.0 to be removed in V3.0. See Pydantic V2 Migration Guide at https://errors.pydantic.dev/2.10/migration/\n",
      "  print(resposta_formatada.dict())\n"
     ]
    }
   ],
   "source": [
    "from pydantic import BaseModel, ConfigDict\n",
    "from langchain_core.output_parsers import PydanticOutputParser\n",
    "from langchain.prompts import PromptTemplate\n",
    "from langchain.chat_models import ChatOpenAI\n",
    "from langchain.chains import LLMChain\n",
    "\n",
    "# Modelo de resposta\n",
    "class RespostaFormatada(BaseModel):\n",
    "    resposta: str\n",
    "    fonte: str\n",
    "    grau_de_certeza: float\n",
    "    topicos_relacionados: list[str]\n",
    "\n",
    "    model_config = ConfigDict(from_attributes=True)\n",
    "\n",
    "# Parser baseado no modelo Pydantic\n",
    "parser = PydanticOutputParser(pydantic_object=RespostaFormatada)\n",
    "\n",
    "# Prompt com instruções\n",
    "prompt = PromptTemplate(\n",
    "    template=\"Responda à pergunta a seguir estruturando sua resposta como JSON válido com os campos: {format_instructions}.\\n\\nPergunta: {pergunta}\",\n",
    "    input_variables=[\"pergunta\"],\n",
    "    partial_variables={\"format_instructions\": parser.get_format_instructions()}\n",
    ")\n",
    "\n",
    "# Modelo\n",
    "llm = ChatOpenAI(temperature=0)\n",
    "\n",
    "# Pipeline\n",
    "chain = LLMChain(llm=llm, prompt=prompt)\n",
    "\n",
    "# Executar\n",
    "resposta_bruta = chain.run(\"Qual é a capital da França?\")\n",
    "resposta_formatada = parser.parse(resposta_bruta)\n",
    "\n",
    "print(resposta_formatada.dict())"
   ]
  }
 ],
 "metadata": {
  "kernelspec": {
   "display_name": "Python 3",
   "language": "python",
   "name": "python3"
  },
  "language_info": {
   "codemirror_mode": {
    "name": "ipython",
    "version": 3
   },
   "file_extension": ".py",
   "mimetype": "text/x-python",
   "name": "python",
   "nbconvert_exporter": "python",
   "pygments_lexer": "ipython3",
   "version": "3.12.9"
  }
 },
 "nbformat": 4,
 "nbformat_minor": 2
}
