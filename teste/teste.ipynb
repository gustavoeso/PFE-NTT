{
 "cells": [
  {
   "cell_type": "code",
   "execution_count": 10,
   "metadata": {},
   "outputs": [],
   "source": [
    "from crewai import Agent, Task, Crew"
   ]
  },
  {
   "cell_type": "code",
   "execution_count": 11,
   "metadata": {},
   "outputs": [
    {
     "name": "stdout",
     "output_type": "stream",
     "text": [
      "Modelo: gpt-4o-mini\n"
     ]
    }
   ],
   "source": [
    "import os\n",
    "from dotenv import load_dotenv\n",
    "\n",
    "# Carregar as variáveis do arquivo .env\n",
    "load_dotenv()\n",
    "\n",
    "# Definir as variáveis de ambiente\n",
    "os.environ[\"OPENAI_API_KEY\"] = os.getenv(\"OPENAI_API_KEY\")\n",
    "os.environ[\"OPENAI_MODEL_NAME\"] = os.getenv(\"OPENAI_MODEL_NAME\")\n",
    "\n",
    "print(\"Modelo:\", os.environ[\"OPENAI_MODEL_NAME\"])\n"
   ]
  },
  {
   "cell_type": "code",
   "execution_count": 12,
   "metadata": {},
   "outputs": [],
   "source": [
    "# Criar um agente simples\n",
    "agente_teste = Agent(\n",
    "    role=\"Assistente de IA\",\n",
    "    goal=\"Responder perguntas de maneira clara e objetiva.\",\n",
    "    backstory=\"Você é um assistente virtual criado para testes iniciais do CrewAI.\",\n",
    "    verbose=True,\n",
    "    allow_delegation=False,\n",
    "    llm=os.getenv(\"OPENAI_MODEL_NAME\")  # Usa o modelo definido no .env\n",
    ")"
   ]
  },
  {
   "cell_type": "code",
   "execution_count": 13,
   "metadata": {},
   "outputs": [],
   "source": [
    "# Criar uma tarefa para o agente\n",
    "tarefa_teste = Task(\n",
    "    description=\"Responda à pergunta: 'Qual é a capital da França?'\",\n",
    "    expected_output=\"A capital da França é Paris.\",\n",
    "    agent=agente_teste\n",
    ") "
   ]
  },
  {
   "cell_type": "code",
   "execution_count": 14,
   "metadata": {},
   "outputs": [
    {
     "name": "stderr",
     "output_type": "stream",
     "text": [
      "Overriding of current TracerProvider is not allowed\n"
     ]
    }
   ],
   "source": [
    "# Criar uma crew e executar a tarefa\n",
    "crew_teste = Crew(\n",
    "    agents=[agente_teste],\n",
    "    tasks=[tarefa_teste]\n",
    ")"
   ]
  },
  {
   "cell_type": "code",
   "execution_count": 15,
   "metadata": {},
   "outputs": [
    {
     "name": "stdout",
     "output_type": "stream",
     "text": [
      "\u001b[1m\u001b[95m# Agent:\u001b[00m \u001b[1m\u001b[92mAssistente de IA\u001b[00m\n",
      "\u001b[95m## Task:\u001b[00m \u001b[92mResponda à pergunta: 'Qual é a capital da França?'\u001b[00m\n",
      "\n",
      "\n",
      "\u001b[1m\u001b[95m# Agent:\u001b[00m \u001b[1m\u001b[92mAssistente de IA\u001b[00m\n",
      "\u001b[95m## Final Answer:\u001b[00m \u001b[92m\n",
      "A capital da França é Paris.\u001b[00m\n",
      "\n",
      "\n",
      "\n",
      "Resposta do Agente: A capital da França é Paris.\n"
     ]
    }
   ],
   "source": [
    "# Rodar o teste\n",
    "resultado = crew_teste.kickoff()\n",
    "print(\"\\nResposta do Agente:\", resultado)"
   ]
  }
 ],
 "metadata": {
  "kernelspec": {
   "display_name": "venv",
   "language": "python",
   "name": "python3"
  },
  "language_info": {
   "codemirror_mode": {
    "name": "ipython",
    "version": 3
   },
   "file_extension": ".py",
   "mimetype": "text/x-python",
   "name": "python",
   "nbconvert_exporter": "python",
   "pygments_lexer": "ipython3",
   "version": "3.12.9"
  }
 },
 "nbformat": 4,
 "nbformat_minor": 2
}
