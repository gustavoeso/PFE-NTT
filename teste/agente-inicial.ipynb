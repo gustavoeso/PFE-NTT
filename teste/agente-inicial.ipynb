{
 "cells": [
  {
   "cell_type": "code",
   "execution_count": 1,
   "metadata": {},
   "outputs": [],
   "source": [
    "from crewai import Agent, Task, Crew\n",
    "import os\n",
    "from dotenv import load_dotenv\n",
    "import openai"
   ]
  },
  {
   "cell_type": "code",
   "execution_count": 2,
   "metadata": {},
   "outputs": [
    {
     "data": {
      "text/plain": [
       "True"
      ]
     },
     "execution_count": 2,
     "metadata": {},
     "output_type": "execute_result"
    }
   ],
   "source": [
    "# Carregar variáveis do .env\n",
    "load_dotenv()"
   ]
  },
  {
   "cell_type": "code",
   "execution_count": 3,
   "metadata": {},
   "outputs": [],
   "source": [
    "# Criar o agente vendedor de roupas\n",
    "vendedor_roupas = Agent(\n",
    "    role=\"Vendedor de Loja de Roupas\",\n",
    "    goal=\"Ajudar clientes a escolher roupas ideais para suas necessidades.\",\n",
    "    backstory=(\n",
    "        \"Você trabalha em uma loja de roupas há 5 anos e tem um vasto conhecimento sobre tendências de moda. \"\n",
    "        \"Sua prioridade é ajudar os clientes a encontrarem roupas que combinem com seu estilo e orçamento.\"\n",
    "    ),\n",
    "    verbose=True,\n",
    "    allow_delegation=False,\n",
    "    llm=os.getenv(\"OPENAI_MODEL_NAME\")  # Modelo da OpenAI definido no .env\n",
    ")"
   ]
  },
  {
   "cell_type": "code",
   "execution_count": 4,
   "metadata": {},
   "outputs": [],
   "source": [
    "# Criar uma tarefa para o agente\n",
    "tarefa_venda = Task(\n",
    "    description=\"Um cliente entrou na loja e está procurando uma roupa para um evento. \"\n",
    "                \"Converse com ele, descubra suas preferências e sugira algumas opções de roupas.\",\n",
    "    agent=vendedor_roupas,\n",
    "    expected_output=\"O vendedor deve sugerir pelo menos 3 opções de roupas baseadas nas preferências do cliente.\"\n",
    ")"
   ]
  },
  {
   "cell_type": "code",
   "execution_count": 5,
   "metadata": {},
   "outputs": [
    {
     "name": "stderr",
     "output_type": "stream",
     "text": [
      "Exception while exporting Span batch.\n",
      "Traceback (most recent call last):\n",
      "  File \"c:\\Users\\guoli\\Documents\\Insper\\PFE\\PFE-NTT\\venv\\Lib\\site-packages\\urllib3\\connectionpool.py\", line 464, in _make_request\n",
      "    self._validate_conn(conn)\n",
      "  File \"c:\\Users\\guoli\\Documents\\Insper\\PFE\\PFE-NTT\\venv\\Lib\\site-packages\\urllib3\\connectionpool.py\", line 1093, in _validate_conn\n",
      "    conn.connect()\n",
      "  File \"c:\\Users\\guoli\\Documents\\Insper\\PFE\\PFE-NTT\\venv\\Lib\\site-packages\\urllib3\\connection.py\", line 741, in connect\n",
      "    sock_and_verified = _ssl_wrap_socket_and_match_hostname(\n",
      "                        ^^^^^^^^^^^^^^^^^^^^^^^^^^^^^^^^^^^^\n",
      "  File \"c:\\Users\\guoli\\Documents\\Insper\\PFE\\PFE-NTT\\venv\\Lib\\site-packages\\urllib3\\connection.py\", line 920, in _ssl_wrap_socket_and_match_hostname\n",
      "    ssl_sock = ssl_wrap_socket(\n",
      "               ^^^^^^^^^^^^^^^^\n",
      "  File \"c:\\Users\\guoli\\Documents\\Insper\\PFE\\PFE-NTT\\venv\\Lib\\site-packages\\urllib3\\util\\ssl_.py\", line 460, in ssl_wrap_socket\n",
      "    ssl_sock = _ssl_wrap_socket_impl(sock, context, tls_in_tls, server_hostname)\n",
      "               ^^^^^^^^^^^^^^^^^^^^^^^^^^^^^^^^^^^^^^^^^^^^^^^^^^^^^^^^^^^^^^^^^\n",
      "  File \"c:\\Users\\guoli\\Documents\\Insper\\PFE\\PFE-NTT\\venv\\Lib\\site-packages\\urllib3\\util\\ssl_.py\", line 504, in _ssl_wrap_socket_impl\n",
      "    return ssl_context.wrap_socket(sock, server_hostname=server_hostname)\n",
      "           ^^^^^^^^^^^^^^^^^^^^^^^^^^^^^^^^^^^^^^^^^^^^^^^^^^^^^^^^^^^^^^\n",
      "  File \"C:\\Program Files\\WindowsApps\\PythonSoftwareFoundation.Python.3.12_3.12.2544.0_x64__qbz5n2kfra8p0\\Lib\\ssl.py\", line 455, in wrap_socket\n",
      "    return self.sslsocket_class._create(\n",
      "           ^^^^^^^^^^^^^^^^^^^^^^^^^^^^^\n",
      "  File \"C:\\Program Files\\WindowsApps\\PythonSoftwareFoundation.Python.3.12_3.12.2544.0_x64__qbz5n2kfra8p0\\Lib\\ssl.py\", line 1041, in _create\n",
      "    self.do_handshake()\n",
      "  File \"C:\\Program Files\\WindowsApps\\PythonSoftwareFoundation.Python.3.12_3.12.2544.0_x64__qbz5n2kfra8p0\\Lib\\ssl.py\", line 1319, in do_handshake\n",
      "    self._sslobj.do_handshake()\n",
      "TimeoutError: _ssl.c:993: The handshake operation timed out\n",
      "\n",
      "The above exception was the direct cause of the following exception:\n",
      "\n",
      "Traceback (most recent call last):\n",
      "  File \"c:\\Users\\guoli\\Documents\\Insper\\PFE\\PFE-NTT\\venv\\Lib\\site-packages\\requests\\adapters.py\", line 667, in send\n",
      "    resp = conn.urlopen(\n",
      "           ^^^^^^^^^^^^^\n",
      "  File \"c:\\Users\\guoli\\Documents\\Insper\\PFE\\PFE-NTT\\venv\\Lib\\site-packages\\urllib3\\connectionpool.py\", line 841, in urlopen\n",
      "    retries = retries.increment(\n",
      "              ^^^^^^^^^^^^^^^^^^\n",
      "  File \"c:\\Users\\guoli\\Documents\\Insper\\PFE\\PFE-NTT\\venv\\Lib\\site-packages\\urllib3\\util\\retry.py\", line 474, in increment\n",
      "    raise reraise(type(error), error, _stacktrace)\n",
      "          ^^^^^^^^^^^^^^^^^^^^^^^^^^^^^^^^^^^^^^^^\n",
      "  File \"c:\\Users\\guoli\\Documents\\Insper\\PFE\\PFE-NTT\\venv\\Lib\\site-packages\\urllib3\\util\\util.py\", line 39, in reraise\n",
      "    raise value\n",
      "  File \"c:\\Users\\guoli\\Documents\\Insper\\PFE\\PFE-NTT\\venv\\Lib\\site-packages\\urllib3\\connectionpool.py\", line 787, in urlopen\n",
      "    response = self._make_request(\n",
      "               ^^^^^^^^^^^^^^^^^^^\n",
      "  File \"c:\\Users\\guoli\\Documents\\Insper\\PFE\\PFE-NTT\\venv\\Lib\\site-packages\\urllib3\\connectionpool.py\", line 488, in _make_request\n",
      "    raise new_e\n",
      "  File \"c:\\Users\\guoli\\Documents\\Insper\\PFE\\PFE-NTT\\venv\\Lib\\site-packages\\urllib3\\connectionpool.py\", line 466, in _make_request\n",
      "    self._raise_timeout(err=e, url=url, timeout_value=conn.timeout)\n",
      "  File \"c:\\Users\\guoli\\Documents\\Insper\\PFE\\PFE-NTT\\venv\\Lib\\site-packages\\urllib3\\connectionpool.py\", line 367, in _raise_timeout\n",
      "    raise ReadTimeoutError(\n",
      "urllib3.exceptions.ReadTimeoutError: HTTPSConnectionPool(host='telemetry.crewai.com', port=4319): Read timed out. (read timeout=30)\n",
      "\n",
      "During handling of the above exception, another exception occurred:\n",
      "\n",
      "Traceback (most recent call last):\n",
      "  File \"c:\\Users\\guoli\\Documents\\Insper\\PFE\\PFE-NTT\\venv\\Lib\\site-packages\\opentelemetry\\sdk\\trace\\export\\__init__.py\", line 360, in _export_batch\n",
      "    self.span_exporter.export(self.spans_list[:idx])  # type: ignore\n",
      "    ^^^^^^^^^^^^^^^^^^^^^^^^^^^^^^^^^^^^^^^^^^^^^^^^\n",
      "  File \"c:\\Users\\guoli\\Documents\\Insper\\PFE\\PFE-NTT\\venv\\Lib\\site-packages\\opentelemetry\\exporter\\otlp\\proto\\http\\trace_exporter\\__init__.py\", line 189, in export\n",
      "    return self._export_serialized_spans(serialized_data)\n",
      "           ^^^^^^^^^^^^^^^^^^^^^^^^^^^^^^^^^^^^^^^^^^^^^^\n",
      "  File \"c:\\Users\\guoli\\Documents\\Insper\\PFE\\PFE-NTT\\venv\\Lib\\site-packages\\opentelemetry\\exporter\\otlp\\proto\\http\\trace_exporter\\__init__.py\", line 159, in _export_serialized_spans\n",
      "    resp = self._export(serialized_data)\n",
      "           ^^^^^^^^^^^^^^^^^^^^^^^^^^^^^\n",
      "  File \"c:\\Users\\guoli\\Documents\\Insper\\PFE\\PFE-NTT\\venv\\Lib\\site-packages\\opentelemetry\\exporter\\otlp\\proto\\http\\trace_exporter\\__init__.py\", line 133, in _export\n",
      "    return self._session.post(\n",
      "           ^^^^^^^^^^^^^^^^^^^\n",
      "  File \"c:\\Users\\guoli\\Documents\\Insper\\PFE\\PFE-NTT\\venv\\Lib\\site-packages\\requests\\sessions.py\", line 637, in post\n",
      "    return self.request(\"POST\", url, data=data, json=json, **kwargs)\n",
      "           ^^^^^^^^^^^^^^^^^^^^^^^^^^^^^^^^^^^^^^^^^^^^^^^^^^^^^^^^^\n",
      "  File \"c:\\Users\\guoli\\Documents\\Insper\\PFE\\PFE-NTT\\venv\\Lib\\site-packages\\requests\\sessions.py\", line 589, in request\n",
      "    resp = self.send(prep, **send_kwargs)\n",
      "           ^^^^^^^^^^^^^^^^^^^^^^^^^^^^^^\n",
      "  File \"c:\\Users\\guoli\\Documents\\Insper\\PFE\\PFE-NTT\\venv\\Lib\\site-packages\\requests\\sessions.py\", line 703, in send\n",
      "    r = adapter.send(request, **kwargs)\n",
      "        ^^^^^^^^^^^^^^^^^^^^^^^^^^^^^^^\n",
      "  File \"c:\\Users\\guoli\\Documents\\Insper\\PFE\\PFE-NTT\\venv\\Lib\\site-packages\\requests\\adapters.py\", line 713, in send\n",
      "    raise ReadTimeout(e, request=request)\n",
      "requests.exceptions.ReadTimeout: HTTPSConnectionPool(host='telemetry.crewai.com', port=4319): Read timed out. (read timeout=30)\n"
     ]
    }
   ],
   "source": [
    "# Criar a Crew e executar a interação\n",
    "crew_vendas = Crew(\n",
    "    agents=[vendedor_roupas],\n",
    "    tasks=[tarefa_venda]\n",
    ")"
   ]
  },
  {
   "cell_type": "code",
   "execution_count": 6,
   "metadata": {},
   "outputs": [
    {
     "name": "stdout",
     "output_type": "stream",
     "text": [
      "\u001b[1m\u001b[95m# Agent:\u001b[00m \u001b[1m\u001b[92mVendedor de Loja de Roupas\u001b[00m\n",
      "\u001b[95m## Task:\u001b[00m \u001b[92mUm cliente entrou na loja e está procurando uma roupa para um evento. Converse com ele, descubra suas preferências e sugira algumas opções de roupas.\u001b[00m\n",
      "\n",
      "\n",
      "\u001b[1m\u001b[95m# Agent:\u001b[00m \u001b[1m\u001b[92mVendedor de Loja de Roupas\u001b[00m\n",
      "\u001b[95m## Final Answer:\u001b[00m \u001b[92m\n",
      "Olá! Bem-vindo à loja! Estou aqui para ajudar você a encontrar a roupa perfeita para o seu evento. Poderia me dizer um pouco mais sobre o tipo de evento que você vai? É uma festa formal, casual, um casamento ou talvez algo mais descontraído? Além disso, gostaria de saber se você tem alguma preferência de cor, estilo ou tecido.  \n",
      "\n",
      "Enquanto você pensa sobre isso, aqui estão algumas sugestões que podem funcionar para diferentes tipos de eventos:  \n",
      "\n",
      "1. **Vestido Midi Floral (casual/outdoor)**: Se o evento for durante o dia e mais descontraído, um vestido midi floral pode ser uma excelente escolha. Ele é leve e confortável, perfeito para um evento ao ar livre, e você pode combiná-lo com sandálias ou sapatilhas.  \n",
      "\n",
      "2. **Terno Slim Fit (formal)**: Para um evento mais formal, como um casamento ou uma gala, um terno slim fit em um tom azul marinho pode ser uma ótima opção. Ele oferece um caimento moderno e elegante. Você pode completar o look com uma camisa branca e uma gravata que combine.  \n",
      "\n",
      "3. **Saia Lápis e Blusa de Seda (semi-formal)**: Se o evento for semi-formal, uma saia lápis combinada com uma blusa de seda é uma escolha sofisticada. Você pode optar por cores neutras para um visual mais clássico ou arriscar em estampas para um look mais ousado. Para finalizar, um par de saltos altos ficaria incrível!  \n",
      "\n",
      "Essas são algumas opções que pensei com base em diferentes estilos de eventos. Assim que você me contar mais sobre o tipo de evento e suas preferências, poderei indicar peças específicas que se encaixem melhor no seu gosto!\u001b[00m\n",
      "\n",
      "\n",
      "\n",
      "Resposta do Vendedor:\n",
      " Olá! Bem-vindo à loja! Estou aqui para ajudar você a encontrar a roupa perfeita para o seu evento. Poderia me dizer um pouco mais sobre o tipo de evento que você vai? É uma festa formal, casual, um casamento ou talvez algo mais descontraído? Além disso, gostaria de saber se você tem alguma preferência de cor, estilo ou tecido.  \n",
      "\n",
      "Enquanto você pensa sobre isso, aqui estão algumas sugestões que podem funcionar para diferentes tipos de eventos:  \n",
      "\n",
      "1. **Vestido Midi Floral (casual/outdoor)**: Se o evento for durante o dia e mais descontraído, um vestido midi floral pode ser uma excelente escolha. Ele é leve e confortável, perfeito para um evento ao ar livre, e você pode combiná-lo com sandálias ou sapatilhas.  \n",
      "\n",
      "2. **Terno Slim Fit (formal)**: Para um evento mais formal, como um casamento ou uma gala, um terno slim fit em um tom azul marinho pode ser uma ótima opção. Ele oferece um caimento moderno e elegante. Você pode completar o look com uma camisa branca e uma gravata que combine.  \n",
      "\n",
      "3. **Saia Lápis e Blusa de Seda (semi-formal)**: Se o evento for semi-formal, uma saia lápis combinada com uma blusa de seda é uma escolha sofisticada. Você pode optar por cores neutras para um visual mais clássico ou arriscar em estampas para um look mais ousado. Para finalizar, um par de saltos altos ficaria incrível!  \n",
      "\n",
      "Essas são algumas opções que pensei com base em diferentes estilos de eventos. Assim que você me contar mais sobre o tipo de evento e suas preferências, poderei indicar peças específicas que se encaixem melhor no seu gosto!\n"
     ]
    }
   ],
   "source": [
    "# Rodar a interação\n",
    "resultado = crew_vendas.kickoff()\n",
    "print(\"\\nResposta do Vendedor:\\n\", resultado)"
   ]
  },
  {
   "cell_type": "code",
   "execution_count": 7,
   "metadata": {},
   "outputs": [
    {
     "name": "stdout",
     "output_type": "stream",
     "text": [
      "Vendedor: Olá! Em que posso ajudar você hoje?\n",
      "\n",
      "\n",
      "Vendedor: Foi um prazer ajudar. Até mais!\n",
      "\n"
     ]
    }
   ],
   "source": [
    "# Criar o agente vendedor de roupas\n",
    "vendedor_roupas = Agent(\n",
    "    role=\"Vendedor de Loja de Roupas\",\n",
    "    goal=\"Ajudar clientes a escolher roupas ideais para suas necessidades.\",\n",
    "    backstory=(\n",
    "        \"Você trabalha em uma loja de roupas há 5 anos e tem um vasto conhecimento sobre tendências de moda. \"\n",
    "        \"Sua prioridade é ajudar os clientes a encontrarem roupas que combinem com seu estilo e orçamento.\"\n",
    "    ),\n",
    "    # IMPORTANTE: para manter o contexto ao longo de várias interações\n",
    "    memory=True,  \n",
    "    verbose=True,\n",
    "    allow_delegation=False,\n",
    "    llm=os.getenv(\"OPENAI_MODEL_NAME\")  # Modelo da OpenAI definido no .env\n",
    ")\n",
    "\n",
    "def conversa_dinamica(agent: Agent):\n",
    "    print(\"Vendedor: Olá! Em que posso ajudar você hoje?\\n\")\n",
    "\n",
    "    while True:\n",
    "        mensagem_cliente = input(\"Você: \")\n",
    "        if mensagem_cliente.lower() in [\"sair\", \"exit\", \"quit\"]:\n",
    "            print(\"\\nVendedor: Foi um prazer ajudar. Até mais!\\n\")\n",
    "            break\n",
    "\n",
    "        # Criamos uma Task que representa a \"pergunta\" do cliente\n",
    "        tarefa = Task(\n",
    "            description=f\"Cliente diz: '{mensagem_cliente}'\\n\\nResponda como um vendedor de roupas:\",\n",
    "            expected_output=\"Fornecer uma resposta apropriada de vendedor.\",\n",
    "            agent=agent,\n",
    "            # Se quiser, pode colocar tools=[...] aqui ou no agente\n",
    "        )\n",
    "\n",
    "        # Criamos um Crew com essa única task\n",
    "        crew_temporario = Crew(\n",
    "            agents=[agent],\n",
    "            tasks=[tarefa],\n",
    "            verbose=False  # Pode deixar True se quiser ver logs de debug\n",
    "        )\n",
    "\n",
    "        # Executamos a crew para obter a resposta do vendedor\n",
    "        resultado = crew_temporario.kickoff()\n",
    "\n",
    "        # O \"resultado\" final do crew será o output da última Task;\n",
    "        # podemos imprimir a resposta diretamente:\n",
    "        print(f\"\\nVendedor: {resultado.raw}\\n\")\n",
    "\n",
    "# Executar o chat\n",
    "if __name__ == \"__main__\":\n",
    "    conversa_dinamica(vendedor_roupas)"
   ]
  }
 ],
 "metadata": {
  "kernelspec": {
   "display_name": "venv",
   "language": "python",
   "name": "python3"
  },
  "language_info": {
   "codemirror_mode": {
    "name": "ipython",
    "version": 3
   },
   "file_extension": ".py",
   "mimetype": "text/x-python",
   "name": "python",
   "nbconvert_exporter": "python",
   "pygments_lexer": "ipython3",
   "version": "3.12.9"
  }
 },
 "nbformat": 4,
 "nbformat_minor": 2
}
